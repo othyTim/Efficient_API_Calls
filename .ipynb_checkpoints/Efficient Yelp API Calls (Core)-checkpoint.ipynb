{
 "cells": [
  {
   "cell_type": "markdown",
   "id": "888edb44-d476-4226-994c-32c9627c91bb",
   "metadata": {},
   "source": [
    "## Imports"
   ]
  },
  {
   "cell_type": "code",
   "execution_count": 1,
   "id": "07f484de-02e9-45a2-86aa-8f7787427820",
   "metadata": {},
   "outputs": [],
   "source": [
    "\n",
    "import numpy as np\n",
    "import pandas as pd\n",
    "import matplotlib.pyplot as plt\n",
    "import seaborn as sns\n",
    "\n",
    "import os, json, math, time\n",
    "from yelpapi import YelpAPI\n",
    "from tqdm.notebook import tqdm_notebook\n",
    "import time"
   ]
  },
  {
   "cell_type": "code",
   "execution_count": 2,
   "id": "f9ce7723-08ae-4813-9767-ec6d31c4b9d5",
   "metadata": {},
   "outputs": [],
   "source": [
    "with open('/Users/timothylingeveldt/.secret/yelp_api.json') as f: #change the path to match YOUR path!!\n",
    "    login = json.load(f)\n",
    "login.keys()\n",
    "\n",
    "# Instantiate YelpAPI Variable\n",
    "yelp_api = YelpAPI(login['api-key'], timeout_s=5.0)"
   ]
  },
  {
   "cell_type": "markdown",
   "id": "db428c65-99bc-4660-94a8-8e169dfa942f",
   "metadata": {},
   "source": [
    "## Define Search"
   ]
  },
  {
   "cell_type": "code",
   "execution_count": 3,
   "id": "a15c9de2-48b3-4a8b-b0b9-5d899df1844e",
   "metadata": {},
   "outputs": [],
   "source": [
    "# set our API call parameters \n",
    "LOCATION = 'NY,NY'\n",
    "TERM = 'Burger'"
   ]
  },
  {
   "cell_type": "markdown",
   "id": "f3538e8b-1b44-453d-90a9-2ac1175017ba",
   "metadata": {},
   "source": [
    "## Json File"
   ]
  },
  {
   "cell_type": "code",
   "execution_count": 4,
   "id": "06175d4d-8634-426b-bd26-087ceecb22a0",
   "metadata": {},
   "outputs": [
    {
     "data": {
      "text/plain": [
       "'Data/results_in_progress_NY_burger.json'"
      ]
     },
     "execution_count": 4,
     "metadata": {},
     "output_type": "execute_result"
    }
   ],
   "source": [
    "JSON_FILE = \"Data/results_in_progress_NY_burger.json\"\n",
    "JSON_FILE"
   ]
  },
  {
   "cell_type": "markdown",
   "id": "68fa84a6-8a75-4d43-986d-24fae0f61481",
   "metadata": {},
   "source": [
    "## Create JSON File Function"
   ]
  },
  {
   "cell_type": "code",
   "execution_count": 5,
   "id": "5f4e7a87-ec2e-4cdf-95f2-659972aa9a38",
   "metadata": {},
   "outputs": [],
   "source": [
    "def create_json_file(JSON_FILE,  delete_if_exists=False):\n",
    "    \n",
    "    ## Check if JSON_FILE exists\n",
    "    file_exists = os.path.isfile(JSON_FILE)\n",
    "    \n",
    "    ## If it DOES exist:\n",
    "    if file_exists == True:\n",
    "        \n",
    "        ## Check if user wants to delete if exists\n",
    "        if delete_if_exists==True:\n",
    "            \n",
    "            print(f\"[!] {JSON_FILE} already exists. Deleting previous file...\")\n",
    "            ## delete file and confirm it no longer exits.\n",
    "            os.remove(JSON_FILE)\n",
    "            ## Recursive call to function after old file deleted\n",
    "            create_json_file(JSON_FILE,delete_if_exists=False)\n",
    "        else:\n",
    "            print(f\"[i] {JSON_FILE} already exists.\")            \n",
    "            \n",
    "            \n",
    "    ## If it does NOT exist:\n",
    "    else:\n",
    "        \n",
    "        ## INFORM USER AND SAVE EMPTY LIST\n",
    "        print(f\"[i] {JSON_FILE} not found. Saving empty list to new file.\")\n",
    "        \n",
    "        ## CREATE ANY NEEDED FOLDERS\n",
    "        # Get the Folder Name only\n",
    "        folder = os.path.dirname(JSON_FILE)\n",
    "        \n",
    "        ## If JSON_FILE included a folder:\n",
    "        if len(folder)>0:\n",
    "            # create the folder\n",
    "            os.makedirs(folder,exist_ok=True)\n",
    "        ## Save empty list to start the json file\n",
    "        with open(JSON_FILE,'w') as f:\n",
    "            json.dump([],f)  "
   ]
  },
  {
   "cell_type": "code",
   "execution_count": 6,
   "id": "1bfbc8bc-4031-4b7a-9ee2-68e22d4dc706",
   "metadata": {},
   "outputs": [
    {
     "name": "stdout",
     "output_type": "stream",
     "text": [
      "[!] Data/results_in_progress_NY_burger.json already exists. Deleting previous file...\n",
      "[i] Data/results_in_progress_NY_burger.json not found. Saving empty list to new file.\n",
      "- 0 previous results found.\n"
     ]
    },
    {
     "data": {
      "text/plain": [
       "710"
      ]
     },
     "execution_count": 6,
     "metadata": {},
     "output_type": "execute_result"
    }
   ],
   "source": [
    "## Create a new empty json file (exist the previous if it exists)\n",
    "create_json_file(JSON_FILE, delete_if_exists=True)\n",
    "## Load previous results and use len of results for offset\n",
    "with open(JSON_FILE,'r') as f:\n",
    "    previous_results = json.load(f)\n",
    "    \n",
    "## set offset based on previous results\n",
    "n_results = len(previous_results)\n",
    "print(f'- {n_results} previous results found.')\n",
    "# use our yelp_api variable's search_query method to perform our API call\n",
    "results = yelp_api.search_query(location=LOCATION,\n",
    "                                term=TERM,\n",
    "                               offset=n_results)\n",
    "## How many results total?\n",
    "total_results = results['total']\n",
    "## How many did we get the details for?\n",
    "results_per_page = len(results['businesses'])\n",
    "# Use math.ceil to round up for the total number of pages of results.\n",
    "n_pages = math.ceil((results['total']-n_results)/ results_per_page)\n",
    "n_pages"
   ]
  },
  {
   "cell_type": "markdown",
   "id": "686ca15f-fbf1-4565-90c6-4b1228da4c17",
   "metadata": {},
   "source": [
    "## Loop"
   ]
  },
  {
   "cell_type": "code",
   "execution_count": 7,
   "id": "0e5712a5-1537-4c06-82ee-ab571c5b2d48",
   "metadata": {},
   "outputs": [
    {
     "data": {
      "application/vnd.jupyter.widget-view+json": {
       "model_id": "512c049d3fc743db9f13d6db7abacaaa",
       "version_major": 2,
       "version_minor": 0
      },
      "text/plain": [
       "  0%|          | 0/710 [00:00<?, ?it/s]"
      ]
     },
     "metadata": {},
     "output_type": "display_data"
    },
    {
     "name": "stdout",
     "output_type": "stream",
     "text": [
      "Exceeded 400 api calls. Stopping loop.\n"
     ]
    }
   ],
   "source": [
    "for i in tqdm_notebook( range(1,n_pages+1)):\n",
    "    \n",
    "    ## Read in results in progress file and check the length\n",
    "    with open(JSON_FILE, 'r') as f:\n",
    "        previous_results = json.load(f)\n",
    "    ## save number of results for to use as offset\n",
    "    n_results = len(previous_results)\n",
    "    \n",
    "    if (n_results + results_per_page) > 400:\n",
    "        print('Exceeded 400 api calls. Stopping loop.')\n",
    "        break\n",
    "    \n",
    "    ## use n_results as the OFFSET \n",
    "    results = yelp_api.search_query(location=LOCATION,\n",
    "                                    term=TERM, \n",
    "                                    offset=n_results)\n",
    "    \n",
    "    \n",
    "    \n",
    "    ## append new results and save to file\n",
    "    previous_results.extend(results['businesses'])\n",
    "    \n",
    "    # display(previous_results)\n",
    "    with open(JSON_FILE,'w') as f:\n",
    "        json.dump(previous_results,f)\n",
    "    \n",
    "    time.sleep(.2)"
   ]
  },
  {
   "cell_type": "markdown",
   "id": "a90a9d87-2e72-4d89-a94b-0e68e547ea7c",
   "metadata": {},
   "source": [
    "## Complied in Data Frame"
   ]
  },
  {
   "cell_type": "code",
   "execution_count": 9,
   "id": "a12916bf-80a2-4291-abdc-702c5a957b40",
   "metadata": {},
   "outputs": [
    {
     "data": {
      "text/html": [
       "<div>\n",
       "<style scoped>\n",
       "    .dataframe tbody tr th:only-of-type {\n",
       "        vertical-align: middle;\n",
       "    }\n",
       "\n",
       "    .dataframe tbody tr th {\n",
       "        vertical-align: top;\n",
       "    }\n",
       "\n",
       "    .dataframe thead th {\n",
       "        text-align: right;\n",
       "    }\n",
       "</style>\n",
       "<table border=\"1\" class=\"dataframe\">\n",
       "  <thead>\n",
       "    <tr style=\"text-align: right;\">\n",
       "      <th></th>\n",
       "      <th>id</th>\n",
       "      <th>alias</th>\n",
       "      <th>name</th>\n",
       "      <th>image_url</th>\n",
       "      <th>is_closed</th>\n",
       "      <th>url</th>\n",
       "      <th>review_count</th>\n",
       "      <th>categories</th>\n",
       "      <th>rating</th>\n",
       "      <th>coordinates</th>\n",
       "      <th>transactions</th>\n",
       "      <th>price</th>\n",
       "      <th>location</th>\n",
       "      <th>phone</th>\n",
       "      <th>display_phone</th>\n",
       "      <th>distance</th>\n",
       "    </tr>\n",
       "  </thead>\n",
       "  <tbody>\n",
       "    <tr>\n",
       "      <th>0</th>\n",
       "      <td>VVYea3NzbklOyHEzSEavWw</td>\n",
       "      <td>7th-street-burger-times-square-new-york</td>\n",
       "      <td>7th Street Burger - Times Square</td>\n",
       "      <td>https://s3-media1.fl.yelpcdn.com/bphoto/un0Pg-...</td>\n",
       "      <td>False</td>\n",
       "      <td>https://www.yelp.com/biz/7th-street-burger-tim...</td>\n",
       "      <td>124</td>\n",
       "      <td>[{'alias': 'burgers', 'title': 'Burgers'}, {'a...</td>\n",
       "      <td>4.5</td>\n",
       "      <td>{'latitude': 40.75238, 'longitude': -73.98939}</td>\n",
       "      <td>[pickup, delivery]</td>\n",
       "      <td>$$</td>\n",
       "      <td>{'address1': '485 7th Ave', 'address2': None, ...</td>\n",
       "      <td></td>\n",
       "      <td></td>\n",
       "      <td>5229.695192</td>\n",
       "    </tr>\n",
       "    <tr>\n",
       "      <th>1</th>\n",
       "      <td>XRjeE9yFANgsG12FWUOoXg</td>\n",
       "      <td>gair-brooklyn</td>\n",
       "      <td>Gair</td>\n",
       "      <td>https://s3-media4.fl.yelpcdn.com/bphoto/ZLAi5s...</td>\n",
       "      <td>False</td>\n",
       "      <td>https://www.yelp.com/biz/gair-brooklyn?adjust_...</td>\n",
       "      <td>2</td>\n",
       "      <td>[{'alias': 'cocktailbars', 'title': 'Cocktail ...</td>\n",
       "      <td>5.0</td>\n",
       "      <td>{'latitude': 40.703113254983855, 'longitude': ...</td>\n",
       "      <td>[]</td>\n",
       "      <td>NaN</td>\n",
       "      <td>{'address1': '41 Washington St', 'address2': '...</td>\n",
       "      <td>+17182332595</td>\n",
       "      <td>(718) 233-2595</td>\n",
       "      <td>486.167974</td>\n",
       "    </tr>\n",
       "    <tr>\n",
       "      <th>2</th>\n",
       "      <td>8xpGj_YkI2X6QxqXUJPw7g</td>\n",
       "      <td>7th-street-burger-new-york-18</td>\n",
       "      <td>7th Street Burger</td>\n",
       "      <td>https://s3-media2.fl.yelpcdn.com/bphoto/GYqi52...</td>\n",
       "      <td>False</td>\n",
       "      <td>https://www.yelp.com/biz/7th-street-burger-new...</td>\n",
       "      <td>332</td>\n",
       "      <td>[{'alias': 'burgers', 'title': 'Burgers'}]</td>\n",
       "      <td>4.5</td>\n",
       "      <td>{'latitude': 40.72697, 'longitude': -73.98546}</td>\n",
       "      <td>[pickup, delivery]</td>\n",
       "      <td>$$</td>\n",
       "      <td>{'address1': '91 E 7th St', 'address2': None, ...</td>\n",
       "      <td>+16464906797</td>\n",
       "      <td>(646) 490-6797</td>\n",
       "      <td>2506.692303</td>\n",
       "    </tr>\n",
       "    <tr>\n",
       "      <th>3</th>\n",
       "      <td>S5ItalpL6lIosnBfWJm7uw</td>\n",
       "      <td>stack-d-burger-brooklyn</td>\n",
       "      <td>Stack’d Burger</td>\n",
       "      <td>https://s3-media1.fl.yelpcdn.com/bphoto/nBS4Ls...</td>\n",
       "      <td>False</td>\n",
       "      <td>https://www.yelp.com/biz/stack-d-burger-brookl...</td>\n",
       "      <td>5</td>\n",
       "      <td>[{'alias': 'chickenshop', 'title': 'Chicken Sh...</td>\n",
       "      <td>5.0</td>\n",
       "      <td>{'latitude': 40.68823, 'longitude': -73.98132}</td>\n",
       "      <td>[]</td>\n",
       "      <td>NaN</td>\n",
       "      <td>{'address1': '20 Nevins St', 'address2': '', '...</td>\n",
       "      <td></td>\n",
       "      <td></td>\n",
       "      <td>2202.348453</td>\n",
       "    </tr>\n",
       "    <tr>\n",
       "      <th>4</th>\n",
       "      <td>H26qMBb0OFNn2xmSTM1Phw</td>\n",
       "      <td>kings-of-kobe-new-york-8</td>\n",
       "      <td>Kings of Kobe</td>\n",
       "      <td>https://s3-media2.fl.yelpcdn.com/bphoto/AF-AC5...</td>\n",
       "      <td>False</td>\n",
       "      <td>https://www.yelp.com/biz/kings-of-kobe-new-yor...</td>\n",
       "      <td>451</td>\n",
       "      <td>[{'alias': 'burgers', 'title': 'Burgers'}, {'a...</td>\n",
       "      <td>4.5</td>\n",
       "      <td>{'latitude': 40.761172, 'longitude': -74.000307}</td>\n",
       "      <td>[pickup, delivery]</td>\n",
       "      <td>$$</td>\n",
       "      <td>{'address1': '650 W 42nd St', 'address2': None...</td>\n",
       "      <td>+16463705121</td>\n",
       "      <td>(646) 370-5121</td>\n",
       "      <td>6217.251058</td>\n",
       "    </tr>\n",
       "    <tr>\n",
       "      <th>...</th>\n",
       "      <td>...</td>\n",
       "      <td>...</td>\n",
       "      <td>...</td>\n",
       "      <td>...</td>\n",
       "      <td>...</td>\n",
       "      <td>...</td>\n",
       "      <td>...</td>\n",
       "      <td>...</td>\n",
       "      <td>...</td>\n",
       "      <td>...</td>\n",
       "      <td>...</td>\n",
       "      <td>...</td>\n",
       "      <td>...</td>\n",
       "      <td>...</td>\n",
       "      <td>...</td>\n",
       "      <td>...</td>\n",
       "    </tr>\n",
       "    <tr>\n",
       "      <th>395</th>\n",
       "      <td>wZoGczlX-vHoZ96pL6EEVA</td>\n",
       "      <td>elite-williamsburg-brooklyn</td>\n",
       "      <td>Elite Williamsburg</td>\n",
       "      <td>https://s3-media3.fl.yelpcdn.com/bphoto/djMlz6...</td>\n",
       "      <td>False</td>\n",
       "      <td>https://www.yelp.com/biz/elite-williamsburg-br...</td>\n",
       "      <td>584</td>\n",
       "      <td>[{'alias': 'breakfast_brunch', 'title': 'Break...</td>\n",
       "      <td>4.0</td>\n",
       "      <td>{'latitude': 40.71609, 'longitude': -73.96286}</td>\n",
       "      <td>[pickup, delivery]</td>\n",
       "      <td>NaN</td>\n",
       "      <td>{'address1': '128 Metropolitan Ave', 'address2...</td>\n",
       "      <td>+17185990200</td>\n",
       "      <td>(718) 599-0200</td>\n",
       "      <td>2912.583528</td>\n",
       "    </tr>\n",
       "    <tr>\n",
       "      <th>396</th>\n",
       "      <td>q1uIqB8PvyCCX8TajaRYBg</td>\n",
       "      <td>little-owl-new-york-3</td>\n",
       "      <td>Little Owl</td>\n",
       "      <td>https://s3-media3.fl.yelpcdn.com/bphoto/xyIuY-...</td>\n",
       "      <td>False</td>\n",
       "      <td>https://www.yelp.com/biz/little-owl-new-york-3...</td>\n",
       "      <td>1462</td>\n",
       "      <td>[{'alias': 'breakfast_brunch', 'title': 'Break...</td>\n",
       "      <td>4.0</td>\n",
       "      <td>{'latitude': 40.73240001181511, 'longitude': -...</td>\n",
       "      <td>[pickup, delivery]</td>\n",
       "      <td>$$$</td>\n",
       "      <td>{'address1': '90 Bedford St', 'address2': None...</td>\n",
       "      <td>+12127414695</td>\n",
       "      <td>(212) 741-4695</td>\n",
       "      <td>3138.048459</td>\n",
       "    </tr>\n",
       "    <tr>\n",
       "      <th>397</th>\n",
       "      <td>WrYtbvOdtL083ArOKFxiiQ</td>\n",
       "      <td>milady-s-new-york</td>\n",
       "      <td>Milady’s</td>\n",
       "      <td>https://s3-media2.fl.yelpcdn.com/bphoto/whvL-b...</td>\n",
       "      <td>False</td>\n",
       "      <td>https://www.yelp.com/biz/milady-s-new-york?adj...</td>\n",
       "      <td>34</td>\n",
       "      <td>[{'alias': 'bars', 'title': 'Bars'}, {'alias':...</td>\n",
       "      <td>4.0</td>\n",
       "      <td>{'latitude': 40.725979686346335, 'longitude': ...</td>\n",
       "      <td>[]</td>\n",
       "      <td>NaN</td>\n",
       "      <td>{'address1': '162 Prince St', 'address2': '', ...</td>\n",
       "      <td>+12122269069</td>\n",
       "      <td>(212) 226-9069</td>\n",
       "      <td>2364.850171</td>\n",
       "    </tr>\n",
       "    <tr>\n",
       "      <th>398</th>\n",
       "      <td>iigqtLntqUS18cXmEXofIQ</td>\n",
       "      <td>the-lowery-bar-and-kitchen-sunnyside</td>\n",
       "      <td>The Lowery Bar &amp; Kitchen</td>\n",
       "      <td>https://s3-media1.fl.yelpcdn.com/bphoto/qoxAtn...</td>\n",
       "      <td>False</td>\n",
       "      <td>https://www.yelp.com/biz/the-lowery-bar-and-ki...</td>\n",
       "      <td>326</td>\n",
       "      <td>[{'alias': 'newamerican', 'title': 'New Americ...</td>\n",
       "      <td>4.5</td>\n",
       "      <td>{'latitude': 40.7451454550028, 'longitude': -7...</td>\n",
       "      <td>[delivery]</td>\n",
       "      <td>$$</td>\n",
       "      <td>{'address1': '43-02 43rd Ave', 'address2': '',...</td>\n",
       "      <td>+19292080054</td>\n",
       "      <td>(929) 208-0054</td>\n",
       "      <td>7583.986856</td>\n",
       "    </tr>\n",
       "    <tr>\n",
       "      <th>399</th>\n",
       "      <td>OiSjFh06dsNonI0cPXMSOw</td>\n",
       "      <td>bondurants-new-york</td>\n",
       "      <td>Bondurants</td>\n",
       "      <td>https://s3-media4.fl.yelpcdn.com/bphoto/EU-oQP...</td>\n",
       "      <td>False</td>\n",
       "      <td>https://www.yelp.com/biz/bondurants-new-york?a...</td>\n",
       "      <td>494</td>\n",
       "      <td>[{'alias': 'cocktailbars', 'title': 'Cocktail ...</td>\n",
       "      <td>4.0</td>\n",
       "      <td>{'latitude': 40.777292, 'longitude': -73.951854}</td>\n",
       "      <td>[pickup, delivery]</td>\n",
       "      <td>$$</td>\n",
       "      <td>{'address1': '303 E 85th St', 'address2': '', ...</td>\n",
       "      <td>+19292791884</td>\n",
       "      <td>(929) 279-1884</td>\n",
       "      <td>8752.613998</td>\n",
       "    </tr>\n",
       "  </tbody>\n",
       "</table>\n",
       "<p>400 rows × 16 columns</p>\n",
       "</div>"
      ],
      "text/plain": [
       "                         id                                    alias  \\\n",
       "0    VVYea3NzbklOyHEzSEavWw  7th-street-burger-times-square-new-york   \n",
       "1    XRjeE9yFANgsG12FWUOoXg                            gair-brooklyn   \n",
       "2    8xpGj_YkI2X6QxqXUJPw7g            7th-street-burger-new-york-18   \n",
       "3    S5ItalpL6lIosnBfWJm7uw                  stack-d-burger-brooklyn   \n",
       "4    H26qMBb0OFNn2xmSTM1Phw                 kings-of-kobe-new-york-8   \n",
       "..                      ...                                      ...   \n",
       "395  wZoGczlX-vHoZ96pL6EEVA              elite-williamsburg-brooklyn   \n",
       "396  q1uIqB8PvyCCX8TajaRYBg                    little-owl-new-york-3   \n",
       "397  WrYtbvOdtL083ArOKFxiiQ                        milady-s-new-york   \n",
       "398  iigqtLntqUS18cXmEXofIQ     the-lowery-bar-and-kitchen-sunnyside   \n",
       "399  OiSjFh06dsNonI0cPXMSOw                      bondurants-new-york   \n",
       "\n",
       "                                 name  \\\n",
       "0    7th Street Burger - Times Square   \n",
       "1                                Gair   \n",
       "2                   7th Street Burger   \n",
       "3                      Stack’d Burger   \n",
       "4                       Kings of Kobe   \n",
       "..                                ...   \n",
       "395                Elite Williamsburg   \n",
       "396                        Little Owl   \n",
       "397                          Milady’s   \n",
       "398          The Lowery Bar & Kitchen   \n",
       "399                        Bondurants   \n",
       "\n",
       "                                             image_url  is_closed  \\\n",
       "0    https://s3-media1.fl.yelpcdn.com/bphoto/un0Pg-...      False   \n",
       "1    https://s3-media4.fl.yelpcdn.com/bphoto/ZLAi5s...      False   \n",
       "2    https://s3-media2.fl.yelpcdn.com/bphoto/GYqi52...      False   \n",
       "3    https://s3-media1.fl.yelpcdn.com/bphoto/nBS4Ls...      False   \n",
       "4    https://s3-media2.fl.yelpcdn.com/bphoto/AF-AC5...      False   \n",
       "..                                                 ...        ...   \n",
       "395  https://s3-media3.fl.yelpcdn.com/bphoto/djMlz6...      False   \n",
       "396  https://s3-media3.fl.yelpcdn.com/bphoto/xyIuY-...      False   \n",
       "397  https://s3-media2.fl.yelpcdn.com/bphoto/whvL-b...      False   \n",
       "398  https://s3-media1.fl.yelpcdn.com/bphoto/qoxAtn...      False   \n",
       "399  https://s3-media4.fl.yelpcdn.com/bphoto/EU-oQP...      False   \n",
       "\n",
       "                                                   url  review_count  \\\n",
       "0    https://www.yelp.com/biz/7th-street-burger-tim...           124   \n",
       "1    https://www.yelp.com/biz/gair-brooklyn?adjust_...             2   \n",
       "2    https://www.yelp.com/biz/7th-street-burger-new...           332   \n",
       "3    https://www.yelp.com/biz/stack-d-burger-brookl...             5   \n",
       "4    https://www.yelp.com/biz/kings-of-kobe-new-yor...           451   \n",
       "..                                                 ...           ...   \n",
       "395  https://www.yelp.com/biz/elite-williamsburg-br...           584   \n",
       "396  https://www.yelp.com/biz/little-owl-new-york-3...          1462   \n",
       "397  https://www.yelp.com/biz/milady-s-new-york?adj...            34   \n",
       "398  https://www.yelp.com/biz/the-lowery-bar-and-ki...           326   \n",
       "399  https://www.yelp.com/biz/bondurants-new-york?a...           494   \n",
       "\n",
       "                                            categories  rating  \\\n",
       "0    [{'alias': 'burgers', 'title': 'Burgers'}, {'a...     4.5   \n",
       "1    [{'alias': 'cocktailbars', 'title': 'Cocktail ...     5.0   \n",
       "2           [{'alias': 'burgers', 'title': 'Burgers'}]     4.5   \n",
       "3    [{'alias': 'chickenshop', 'title': 'Chicken Sh...     5.0   \n",
       "4    [{'alias': 'burgers', 'title': 'Burgers'}, {'a...     4.5   \n",
       "..                                                 ...     ...   \n",
       "395  [{'alias': 'breakfast_brunch', 'title': 'Break...     4.0   \n",
       "396  [{'alias': 'breakfast_brunch', 'title': 'Break...     4.0   \n",
       "397  [{'alias': 'bars', 'title': 'Bars'}, {'alias':...     4.0   \n",
       "398  [{'alias': 'newamerican', 'title': 'New Americ...     4.5   \n",
       "399  [{'alias': 'cocktailbars', 'title': 'Cocktail ...     4.0   \n",
       "\n",
       "                                           coordinates        transactions  \\\n",
       "0       {'latitude': 40.75238, 'longitude': -73.98939}  [pickup, delivery]   \n",
       "1    {'latitude': 40.703113254983855, 'longitude': ...                  []   \n",
       "2       {'latitude': 40.72697, 'longitude': -73.98546}  [pickup, delivery]   \n",
       "3       {'latitude': 40.68823, 'longitude': -73.98132}                  []   \n",
       "4     {'latitude': 40.761172, 'longitude': -74.000307}  [pickup, delivery]   \n",
       "..                                                 ...                 ...   \n",
       "395     {'latitude': 40.71609, 'longitude': -73.96286}  [pickup, delivery]   \n",
       "396  {'latitude': 40.73240001181511, 'longitude': -...  [pickup, delivery]   \n",
       "397  {'latitude': 40.725979686346335, 'longitude': ...                  []   \n",
       "398  {'latitude': 40.7451454550028, 'longitude': -7...          [delivery]   \n",
       "399   {'latitude': 40.777292, 'longitude': -73.951854}  [pickup, delivery]   \n",
       "\n",
       "    price                                           location         phone  \\\n",
       "0      $$  {'address1': '485 7th Ave', 'address2': None, ...                 \n",
       "1     NaN  {'address1': '41 Washington St', 'address2': '...  +17182332595   \n",
       "2      $$  {'address1': '91 E 7th St', 'address2': None, ...  +16464906797   \n",
       "3     NaN  {'address1': '20 Nevins St', 'address2': '', '...                 \n",
       "4      $$  {'address1': '650 W 42nd St', 'address2': None...  +16463705121   \n",
       "..    ...                                                ...           ...   \n",
       "395   NaN  {'address1': '128 Metropolitan Ave', 'address2...  +17185990200   \n",
       "396   $$$  {'address1': '90 Bedford St', 'address2': None...  +12127414695   \n",
       "397   NaN  {'address1': '162 Prince St', 'address2': '', ...  +12122269069   \n",
       "398    $$  {'address1': '43-02 43rd Ave', 'address2': '',...  +19292080054   \n",
       "399    $$  {'address1': '303 E 85th St', 'address2': '', ...  +19292791884   \n",
       "\n",
       "      display_phone     distance  \n",
       "0                    5229.695192  \n",
       "1    (718) 233-2595   486.167974  \n",
       "2    (646) 490-6797  2506.692303  \n",
       "3                    2202.348453  \n",
       "4    (646) 370-5121  6217.251058  \n",
       "..              ...          ...  \n",
       "395  (718) 599-0200  2912.583528  \n",
       "396  (212) 741-4695  3138.048459  \n",
       "397  (212) 226-9069  2364.850171  \n",
       "398  (929) 208-0054  7583.986856  \n",
       "399  (929) 279-1884  8752.613998  \n",
       "\n",
       "[400 rows x 16 columns]"
      ]
     },
     "metadata": {},
     "output_type": "display_data"
    }
   ],
   "source": [
    "final_burger = pd.read_json(JSON_FILE)\n",
    "display(final_burger)"
   ]
  },
  {
   "cell_type": "code",
   "execution_count": null,
   "id": "69571589-f696-4195-8825-0a27bea81cae",
   "metadata": {},
   "outputs": [],
   "source": []
  }
 ],
 "metadata": {
  "kernelspec": {
   "display_name": "Python (dojo-env)",
   "language": "python",
   "name": "dojo-env"
  },
  "language_info": {
   "codemirror_mode": {
    "name": "ipython",
    "version": 3
   },
   "file_extension": ".py",
   "mimetype": "text/x-python",
   "name": "python",
   "nbconvert_exporter": "python",
   "pygments_lexer": "ipython3",
   "version": "3.10.10"
  },
  "widgets": {
   "application/vnd.jupyter.widget-state+json": {
    "state": {
     "2bd28a9395744ca091eb49786ecf29b4": {
      "model_module": "@jupyter-widgets/controls",
      "model_module_version": "2.0.0",
      "model_name": "HTMLModel",
      "state": {
       "layout": "IPY_MODEL_f964fc210d4941f9bd26d57ef0a6e68d",
       "style": "IPY_MODEL_6f9b483fc3734f38ab3e055f25eadbf7",
       "value": " 20/710 [00:27&lt;18:03,  1.57s/it]"
      }
     },
     "3d072742d76946e1a76da97c91e78439": {
      "model_module": "@jupyter-widgets/base",
      "model_module_version": "2.0.0",
      "model_name": "LayoutModel",
      "state": {}
     },
     "512c049d3fc743db9f13d6db7abacaaa": {
      "model_module": "@jupyter-widgets/controls",
      "model_module_version": "2.0.0",
      "model_name": "HBoxModel",
      "state": {
       "children": [
        "IPY_MODEL_8c159c88c92d406780d0ed19863d1a66",
        "IPY_MODEL_a774b3e04096468bb248ceea668a27d6",
        "IPY_MODEL_2bd28a9395744ca091eb49786ecf29b4"
       ],
       "layout": "IPY_MODEL_3d072742d76946e1a76da97c91e78439"
      }
     },
     "6695ad3b3a894debae735c79aa8dd69a": {
      "model_module": "@jupyter-widgets/base",
      "model_module_version": "2.0.0",
      "model_name": "LayoutModel",
      "state": {}
     },
     "6f9b483fc3734f38ab3e055f25eadbf7": {
      "model_module": "@jupyter-widgets/controls",
      "model_module_version": "2.0.0",
      "model_name": "HTMLStyleModel",
      "state": {
       "description_width": "",
       "font_size": null,
       "text_color": null
      }
     },
     "8c159c88c92d406780d0ed19863d1a66": {
      "model_module": "@jupyter-widgets/controls",
      "model_module_version": "2.0.0",
      "model_name": "HTMLModel",
      "state": {
       "layout": "IPY_MODEL_a258824fe1934766a58b3979e0f948bf",
       "style": "IPY_MODEL_a021c4025d894f8a8ab2b49271c4c3a7",
       "value": "  3%"
      }
     },
     "a021c4025d894f8a8ab2b49271c4c3a7": {
      "model_module": "@jupyter-widgets/controls",
      "model_module_version": "2.0.0",
      "model_name": "HTMLStyleModel",
      "state": {
       "description_width": "",
       "font_size": null,
       "text_color": null
      }
     },
     "a258824fe1934766a58b3979e0f948bf": {
      "model_module": "@jupyter-widgets/base",
      "model_module_version": "2.0.0",
      "model_name": "LayoutModel",
      "state": {}
     },
     "a774b3e04096468bb248ceea668a27d6": {
      "model_module": "@jupyter-widgets/controls",
      "model_module_version": "2.0.0",
      "model_name": "FloatProgressModel",
      "state": {
       "bar_style": "danger",
       "layout": "IPY_MODEL_6695ad3b3a894debae735c79aa8dd69a",
       "max": 710,
       "style": "IPY_MODEL_d3fa01de1d45485495a1e8b1e9eb0f99",
       "value": 20
      }
     },
     "d3fa01de1d45485495a1e8b1e9eb0f99": {
      "model_module": "@jupyter-widgets/controls",
      "model_module_version": "2.0.0",
      "model_name": "ProgressStyleModel",
      "state": {
       "description_width": ""
      }
     },
     "f964fc210d4941f9bd26d57ef0a6e68d": {
      "model_module": "@jupyter-widgets/base",
      "model_module_version": "2.0.0",
      "model_name": "LayoutModel",
      "state": {}
     }
    },
    "version_major": 2,
    "version_minor": 0
   }
  }
 },
 "nbformat": 4,
 "nbformat_minor": 5
}
